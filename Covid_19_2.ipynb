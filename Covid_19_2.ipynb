{
 "cells": [
  {
   "cell_type": "markdown",
   "id": "47804e0f",
   "metadata": {},
   "source": [
    "# Capstone Project ---COVİD 19 DATA YI BUL!! GLOBAL DEĞİL!"
   ]
  },
  {
   "cell_type": "code",
   "execution_count": 30,
   "id": "d1286c35",
   "metadata": {},
   "outputs": [],
   "source": [
    "# import pandas library\n",
    "import pandas as pd"
   ]
  },
  {
   "cell_type": "code",
   "execution_count": 44,
   "id": "3f94f67a",
   "metadata": {},
   "outputs": [],
   "source": [
    "### Activity 1: Read CSV File\n",
    "\n",
    "# import pandas and read `covid.csv` file\n",
    "df = pd.read_csv(\"covid.csv\",index_col=[0])"
   ]
  },
  {
   "cell_type": "code",
   "execution_count": 45,
   "id": "86ffd54e",
   "metadata": {},
   "outputs": [
    {
     "data": {
      "text/html": [
       "<div>\n",
       "<style scoped>\n",
       "    .dataframe tbody tr th:only-of-type {\n",
       "        vertical-align: middle;\n",
       "    }\n",
       "\n",
       "    .dataframe tbody tr th {\n",
       "        vertical-align: top;\n",
       "    }\n",
       "\n",
       "    .dataframe thead th {\n",
       "        text-align: right;\n",
       "    }\n",
       "</style>\n",
       "<table border=\"1\" class=\"dataframe\">\n",
       "  <thead>\n",
       "    <tr style=\"text-align: right;\">\n",
       "      <th></th>\n",
       "      <th>Country_code</th>\n",
       "      <th>Country</th>\n",
       "      <th>WHO_region</th>\n",
       "      <th>New_cases</th>\n",
       "      <th>Cumulative_cases</th>\n",
       "      <th>New_deaths</th>\n",
       "      <th>Cumulative_deaths</th>\n",
       "    </tr>\n",
       "    <tr>\n",
       "      <th>Date_reported</th>\n",
       "      <th></th>\n",
       "      <th></th>\n",
       "      <th></th>\n",
       "      <th></th>\n",
       "      <th></th>\n",
       "      <th></th>\n",
       "      <th></th>\n",
       "    </tr>\n",
       "  </thead>\n",
       "  <tbody>\n",
       "    <tr>\n",
       "      <th>2020-01-05</th>\n",
       "      <td>AF</td>\n",
       "      <td>Afghanistan</td>\n",
       "      <td>EMRO</td>\n",
       "      <td>NaN</td>\n",
       "      <td>0</td>\n",
       "      <td>NaN</td>\n",
       "      <td>0</td>\n",
       "    </tr>\n",
       "    <tr>\n",
       "      <th>2020-01-12</th>\n",
       "      <td>AF</td>\n",
       "      <td>Afghanistan</td>\n",
       "      <td>EMRO</td>\n",
       "      <td>NaN</td>\n",
       "      <td>0</td>\n",
       "      <td>NaN</td>\n",
       "      <td>0</td>\n",
       "    </tr>\n",
       "    <tr>\n",
       "      <th>2020-01-19</th>\n",
       "      <td>AF</td>\n",
       "      <td>Afghanistan</td>\n",
       "      <td>EMRO</td>\n",
       "      <td>NaN</td>\n",
       "      <td>0</td>\n",
       "      <td>NaN</td>\n",
       "      <td>0</td>\n",
       "    </tr>\n",
       "    <tr>\n",
       "      <th>2020-01-26</th>\n",
       "      <td>AF</td>\n",
       "      <td>Afghanistan</td>\n",
       "      <td>EMRO</td>\n",
       "      <td>NaN</td>\n",
       "      <td>0</td>\n",
       "      <td>NaN</td>\n",
       "      <td>0</td>\n",
       "    </tr>\n",
       "    <tr>\n",
       "      <th>2020-02-02</th>\n",
       "      <td>AF</td>\n",
       "      <td>Afghanistan</td>\n",
       "      <td>EMRO</td>\n",
       "      <td>NaN</td>\n",
       "      <td>0</td>\n",
       "      <td>NaN</td>\n",
       "      <td>0</td>\n",
       "    </tr>\n",
       "    <tr>\n",
       "      <th>...</th>\n",
       "      <td>...</td>\n",
       "      <td>...</td>\n",
       "      <td>...</td>\n",
       "      <td>...</td>\n",
       "      <td>...</td>\n",
       "      <td>...</td>\n",
       "      <td>...</td>\n",
       "    </tr>\n",
       "    <tr>\n",
       "      <th>2024-03-24</th>\n",
       "      <td>ZW</td>\n",
       "      <td>Zimbabwe</td>\n",
       "      <td>AFRO</td>\n",
       "      <td>NaN</td>\n",
       "      <td>266359</td>\n",
       "      <td>NaN</td>\n",
       "      <td>5740</td>\n",
       "    </tr>\n",
       "    <tr>\n",
       "      <th>2024-03-31</th>\n",
       "      <td>ZW</td>\n",
       "      <td>Zimbabwe</td>\n",
       "      <td>AFRO</td>\n",
       "      <td>NaN</td>\n",
       "      <td>266359</td>\n",
       "      <td>NaN</td>\n",
       "      <td>5740</td>\n",
       "    </tr>\n",
       "    <tr>\n",
       "      <th>2024-04-07</th>\n",
       "      <td>ZW</td>\n",
       "      <td>Zimbabwe</td>\n",
       "      <td>AFRO</td>\n",
       "      <td>NaN</td>\n",
       "      <td>266359</td>\n",
       "      <td>NaN</td>\n",
       "      <td>5740</td>\n",
       "    </tr>\n",
       "    <tr>\n",
       "      <th>2024-04-14</th>\n",
       "      <td>ZW</td>\n",
       "      <td>Zimbabwe</td>\n",
       "      <td>AFRO</td>\n",
       "      <td>NaN</td>\n",
       "      <td>266359</td>\n",
       "      <td>NaN</td>\n",
       "      <td>5740</td>\n",
       "    </tr>\n",
       "    <tr>\n",
       "      <th>2024-04-21</th>\n",
       "      <td>ZW</td>\n",
       "      <td>Zimbabwe</td>\n",
       "      <td>AFRO</td>\n",
       "      <td>NaN</td>\n",
       "      <td>266359</td>\n",
       "      <td>NaN</td>\n",
       "      <td>5740</td>\n",
       "    </tr>\n",
       "  </tbody>\n",
       "</table>\n",
       "<p>54000 rows × 7 columns</p>\n",
       "</div>"
      ],
      "text/plain": [
       "              Country_code      Country WHO_region  New_cases  \\\n",
       "Date_reported                                                   \n",
       "2020-01-05              AF  Afghanistan       EMRO        NaN   \n",
       "2020-01-12              AF  Afghanistan       EMRO        NaN   \n",
       "2020-01-19              AF  Afghanistan       EMRO        NaN   \n",
       "2020-01-26              AF  Afghanistan       EMRO        NaN   \n",
       "2020-02-02              AF  Afghanistan       EMRO        NaN   \n",
       "...                    ...          ...        ...        ...   \n",
       "2024-03-24              ZW     Zimbabwe       AFRO        NaN   \n",
       "2024-03-31              ZW     Zimbabwe       AFRO        NaN   \n",
       "2024-04-07              ZW     Zimbabwe       AFRO        NaN   \n",
       "2024-04-14              ZW     Zimbabwe       AFRO        NaN   \n",
       "2024-04-21              ZW     Zimbabwe       AFRO        NaN   \n",
       "\n",
       "               Cumulative_cases  New_deaths  Cumulative_deaths  \n",
       "Date_reported                                                   \n",
       "2020-01-05                    0         NaN                  0  \n",
       "2020-01-12                    0         NaN                  0  \n",
       "2020-01-19                    0         NaN                  0  \n",
       "2020-01-26                    0         NaN                  0  \n",
       "2020-02-02                    0         NaN                  0  \n",
       "...                         ...         ...                ...  \n",
       "2024-03-24               266359         NaN               5740  \n",
       "2024-03-31               266359         NaN               5740  \n",
       "2024-04-07               266359         NaN               5740  \n",
       "2024-04-14               266359         NaN               5740  \n",
       "2024-04-21               266359         NaN               5740  \n",
       "\n",
       "[54000 rows x 7 columns]"
      ]
     },
     "execution_count": 45,
     "metadata": {},
     "output_type": "execute_result"
    }
   ],
   "source": [
    "df"
   ]
  },
  {
   "cell_type": "code",
   "execution_count": 46,
   "id": "4aac8733",
   "metadata": {},
   "outputs": [
    {
     "data": {
      "text/plain": [
       "(54000, 7)"
      ]
     },
     "execution_count": 46,
     "metadata": {},
     "output_type": "execute_result"
    }
   ],
   "source": [
    "### Activity 2: Select the correct shape\n",
    "\n",
    "df.shape"
   ]
  },
  {
   "cell_type": "code",
   "execution_count": 47,
   "id": "9ebac638",
   "metadata": {},
   "outputs": [
    {
     "name": "stdout",
     "output_type": "stream",
     "text": [
      "<class 'pandas.core.frame.DataFrame'>\n",
      "Index: 54000 entries, 2020-01-05 to 2024-04-21\n",
      "Data columns (total 7 columns):\n",
      " #   Column             Non-Null Count  Dtype  \n",
      "---  ------             --------------  -----  \n",
      " 0   Country_code       53775 non-null  object \n",
      " 1   Country            54000 non-null  object \n",
      " 2   WHO_region         49950 non-null  object \n",
      " 3   New_cases          37645 non-null  float64\n",
      " 4   Cumulative_cases   54000 non-null  int64  \n",
      " 5   New_deaths         24620 non-null  float64\n",
      " 6   Cumulative_deaths  54000 non-null  int64  \n",
      "dtypes: float64(2), int64(2), object(3)\n",
      "memory usage: 3.3+ MB\n"
     ]
    }
   ],
   "source": [
    "### Activity 3: Select the correct datatype\n",
    "\n",
    "df.info()"
   ]
  },
  {
   "cell_type": "code",
   "execution_count": 48,
   "id": "58733c57",
   "metadata": {},
   "outputs": [
    {
     "data": {
      "text/html": [
       "<div>\n",
       "<style scoped>\n",
       "    .dataframe tbody tr th:only-of-type {\n",
       "        vertical-align: middle;\n",
       "    }\n",
       "\n",
       "    .dataframe tbody tr th {\n",
       "        vertical-align: top;\n",
       "    }\n",
       "\n",
       "    .dataframe thead th {\n",
       "        text-align: right;\n",
       "    }\n",
       "</style>\n",
       "<table border=\"1\" class=\"dataframe\">\n",
       "  <thead>\n",
       "    <tr style=\"text-align: right;\">\n",
       "      <th></th>\n",
       "      <th>Country_code</th>\n",
       "      <th>Country</th>\n",
       "      <th>WHO_region</th>\n",
       "      <th>New_cases</th>\n",
       "      <th>Cumulative_cases</th>\n",
       "      <th>New_deaths</th>\n",
       "      <th>Cumulative_deaths</th>\n",
       "    </tr>\n",
       "    <tr>\n",
       "      <th>Date_reported</th>\n",
       "      <th></th>\n",
       "      <th></th>\n",
       "      <th></th>\n",
       "      <th></th>\n",
       "      <th></th>\n",
       "      <th></th>\n",
       "      <th></th>\n",
       "    </tr>\n",
       "  </thead>\n",
       "  <tbody>\n",
       "    <tr>\n",
       "      <th>2020-01-05</th>\n",
       "      <td>AF</td>\n",
       "      <td>Afghanistan</td>\n",
       "      <td>EMRO</td>\n",
       "      <td>NaN</td>\n",
       "      <td>0</td>\n",
       "      <td>NaN</td>\n",
       "      <td>0</td>\n",
       "    </tr>\n",
       "    <tr>\n",
       "      <th>2020-01-12</th>\n",
       "      <td>AF</td>\n",
       "      <td>Afghanistan</td>\n",
       "      <td>EMRO</td>\n",
       "      <td>NaN</td>\n",
       "      <td>0</td>\n",
       "      <td>NaN</td>\n",
       "      <td>0</td>\n",
       "    </tr>\n",
       "    <tr>\n",
       "      <th>2020-01-19</th>\n",
       "      <td>AF</td>\n",
       "      <td>Afghanistan</td>\n",
       "      <td>EMRO</td>\n",
       "      <td>NaN</td>\n",
       "      <td>0</td>\n",
       "      <td>NaN</td>\n",
       "      <td>0</td>\n",
       "    </tr>\n",
       "    <tr>\n",
       "      <th>2020-01-26</th>\n",
       "      <td>AF</td>\n",
       "      <td>Afghanistan</td>\n",
       "      <td>EMRO</td>\n",
       "      <td>NaN</td>\n",
       "      <td>0</td>\n",
       "      <td>NaN</td>\n",
       "      <td>0</td>\n",
       "    </tr>\n",
       "    <tr>\n",
       "      <th>2020-02-02</th>\n",
       "      <td>AF</td>\n",
       "      <td>Afghanistan</td>\n",
       "      <td>EMRO</td>\n",
       "      <td>NaN</td>\n",
       "      <td>0</td>\n",
       "      <td>NaN</td>\n",
       "      <td>0</td>\n",
       "    </tr>\n",
       "    <tr>\n",
       "      <th>2020-02-09</th>\n",
       "      <td>AF</td>\n",
       "      <td>Afghanistan</td>\n",
       "      <td>EMRO</td>\n",
       "      <td>NaN</td>\n",
       "      <td>0</td>\n",
       "      <td>NaN</td>\n",
       "      <td>0</td>\n",
       "    </tr>\n",
       "    <tr>\n",
       "      <th>2020-02-16</th>\n",
       "      <td>AF</td>\n",
       "      <td>Afghanistan</td>\n",
       "      <td>EMRO</td>\n",
       "      <td>NaN</td>\n",
       "      <td>0</td>\n",
       "      <td>NaN</td>\n",
       "      <td>0</td>\n",
       "    </tr>\n",
       "    <tr>\n",
       "      <th>2020-02-23</th>\n",
       "      <td>AF</td>\n",
       "      <td>Afghanistan</td>\n",
       "      <td>EMRO</td>\n",
       "      <td>NaN</td>\n",
       "      <td>0</td>\n",
       "      <td>NaN</td>\n",
       "      <td>0</td>\n",
       "    </tr>\n",
       "    <tr>\n",
       "      <th>2020-03-01</th>\n",
       "      <td>AF</td>\n",
       "      <td>Afghanistan</td>\n",
       "      <td>EMRO</td>\n",
       "      <td>1.0</td>\n",
       "      <td>1</td>\n",
       "      <td>NaN</td>\n",
       "      <td>0</td>\n",
       "    </tr>\n",
       "    <tr>\n",
       "      <th>2020-03-08</th>\n",
       "      <td>AF</td>\n",
       "      <td>Afghanistan</td>\n",
       "      <td>EMRO</td>\n",
       "      <td>NaN</td>\n",
       "      <td>1</td>\n",
       "      <td>NaN</td>\n",
       "      <td>0</td>\n",
       "    </tr>\n",
       "  </tbody>\n",
       "</table>\n",
       "</div>"
      ],
      "text/plain": [
       "              Country_code      Country WHO_region  New_cases  \\\n",
       "Date_reported                                                   \n",
       "2020-01-05              AF  Afghanistan       EMRO        NaN   \n",
       "2020-01-12              AF  Afghanistan       EMRO        NaN   \n",
       "2020-01-19              AF  Afghanistan       EMRO        NaN   \n",
       "2020-01-26              AF  Afghanistan       EMRO        NaN   \n",
       "2020-02-02              AF  Afghanistan       EMRO        NaN   \n",
       "2020-02-09              AF  Afghanistan       EMRO        NaN   \n",
       "2020-02-16              AF  Afghanistan       EMRO        NaN   \n",
       "2020-02-23              AF  Afghanistan       EMRO        NaN   \n",
       "2020-03-01              AF  Afghanistan       EMRO        1.0   \n",
       "2020-03-08              AF  Afghanistan       EMRO        NaN   \n",
       "\n",
       "               Cumulative_cases  New_deaths  Cumulative_deaths  \n",
       "Date_reported                                                   \n",
       "2020-01-05                    0         NaN                  0  \n",
       "2020-01-12                    0         NaN                  0  \n",
       "2020-01-19                    0         NaN                  0  \n",
       "2020-01-26                    0         NaN                  0  \n",
       "2020-02-02                    0         NaN                  0  \n",
       "2020-02-09                    0         NaN                  0  \n",
       "2020-02-16                    0         NaN                  0  \n",
       "2020-02-23                    0         NaN                  0  \n",
       "2020-03-01                    1         NaN                  0  \n",
       "2020-03-08                    1         NaN                  0  "
      ]
     },
     "execution_count": 48,
     "metadata": {},
     "output_type": "execute_result"
    }
   ],
   "source": [
    "df.head(10)"
   ]
  },
  {
   "cell_type": "code",
   "execution_count": 51,
   "id": "95b0f762",
   "metadata": {},
   "outputs": [],
   "source": [
    "df.reset_index(inplace=True)"
   ]
  },
  {
   "cell_type": "code",
   "execution_count": 52,
   "id": "9cd35028",
   "metadata": {},
   "outputs": [
    {
     "data": {
      "text/html": [
       "<div>\n",
       "<style scoped>\n",
       "    .dataframe tbody tr th:only-of-type {\n",
       "        vertical-align: middle;\n",
       "    }\n",
       "\n",
       "    .dataframe tbody tr th {\n",
       "        vertical-align: top;\n",
       "    }\n",
       "\n",
       "    .dataframe thead th {\n",
       "        text-align: right;\n",
       "    }\n",
       "</style>\n",
       "<table border=\"1\" class=\"dataframe\">\n",
       "  <thead>\n",
       "    <tr style=\"text-align: right;\">\n",
       "      <th></th>\n",
       "      <th>Date_reported</th>\n",
       "      <th>Country_code</th>\n",
       "      <th>Country</th>\n",
       "      <th>WHO_region</th>\n",
       "      <th>New_cases</th>\n",
       "      <th>Cumulative_cases</th>\n",
       "      <th>New_deaths</th>\n",
       "      <th>Cumulative_deaths</th>\n",
       "    </tr>\n",
       "  </thead>\n",
       "  <tbody>\n",
       "    <tr>\n",
       "      <th>0</th>\n",
       "      <td>2020-01-05</td>\n",
       "      <td>AF</td>\n",
       "      <td>Afghanistan</td>\n",
       "      <td>EMRO</td>\n",
       "      <td>NaN</td>\n",
       "      <td>0</td>\n",
       "      <td>NaN</td>\n",
       "      <td>0</td>\n",
       "    </tr>\n",
       "    <tr>\n",
       "      <th>1</th>\n",
       "      <td>2020-01-12</td>\n",
       "      <td>AF</td>\n",
       "      <td>Afghanistan</td>\n",
       "      <td>EMRO</td>\n",
       "      <td>NaN</td>\n",
       "      <td>0</td>\n",
       "      <td>NaN</td>\n",
       "      <td>0</td>\n",
       "    </tr>\n",
       "    <tr>\n",
       "      <th>2</th>\n",
       "      <td>2020-01-19</td>\n",
       "      <td>AF</td>\n",
       "      <td>Afghanistan</td>\n",
       "      <td>EMRO</td>\n",
       "      <td>NaN</td>\n",
       "      <td>0</td>\n",
       "      <td>NaN</td>\n",
       "      <td>0</td>\n",
       "    </tr>\n",
       "    <tr>\n",
       "      <th>3</th>\n",
       "      <td>2020-01-26</td>\n",
       "      <td>AF</td>\n",
       "      <td>Afghanistan</td>\n",
       "      <td>EMRO</td>\n",
       "      <td>NaN</td>\n",
       "      <td>0</td>\n",
       "      <td>NaN</td>\n",
       "      <td>0</td>\n",
       "    </tr>\n",
       "    <tr>\n",
       "      <th>4</th>\n",
       "      <td>2020-02-02</td>\n",
       "      <td>AF</td>\n",
       "      <td>Afghanistan</td>\n",
       "      <td>EMRO</td>\n",
       "      <td>NaN</td>\n",
       "      <td>0</td>\n",
       "      <td>NaN</td>\n",
       "      <td>0</td>\n",
       "    </tr>\n",
       "    <tr>\n",
       "      <th>...</th>\n",
       "      <td>...</td>\n",
       "      <td>...</td>\n",
       "      <td>...</td>\n",
       "      <td>...</td>\n",
       "      <td>...</td>\n",
       "      <td>...</td>\n",
       "      <td>...</td>\n",
       "      <td>...</td>\n",
       "    </tr>\n",
       "    <tr>\n",
       "      <th>53995</th>\n",
       "      <td>2024-03-24</td>\n",
       "      <td>ZW</td>\n",
       "      <td>Zimbabwe</td>\n",
       "      <td>AFRO</td>\n",
       "      <td>NaN</td>\n",
       "      <td>266359</td>\n",
       "      <td>NaN</td>\n",
       "      <td>5740</td>\n",
       "    </tr>\n",
       "    <tr>\n",
       "      <th>53996</th>\n",
       "      <td>2024-03-31</td>\n",
       "      <td>ZW</td>\n",
       "      <td>Zimbabwe</td>\n",
       "      <td>AFRO</td>\n",
       "      <td>NaN</td>\n",
       "      <td>266359</td>\n",
       "      <td>NaN</td>\n",
       "      <td>5740</td>\n",
       "    </tr>\n",
       "    <tr>\n",
       "      <th>53997</th>\n",
       "      <td>2024-04-07</td>\n",
       "      <td>ZW</td>\n",
       "      <td>Zimbabwe</td>\n",
       "      <td>AFRO</td>\n",
       "      <td>NaN</td>\n",
       "      <td>266359</td>\n",
       "      <td>NaN</td>\n",
       "      <td>5740</td>\n",
       "    </tr>\n",
       "    <tr>\n",
       "      <th>53998</th>\n",
       "      <td>2024-04-14</td>\n",
       "      <td>ZW</td>\n",
       "      <td>Zimbabwe</td>\n",
       "      <td>AFRO</td>\n",
       "      <td>NaN</td>\n",
       "      <td>266359</td>\n",
       "      <td>NaN</td>\n",
       "      <td>5740</td>\n",
       "    </tr>\n",
       "    <tr>\n",
       "      <th>53999</th>\n",
       "      <td>2024-04-21</td>\n",
       "      <td>ZW</td>\n",
       "      <td>Zimbabwe</td>\n",
       "      <td>AFRO</td>\n",
       "      <td>NaN</td>\n",
       "      <td>266359</td>\n",
       "      <td>NaN</td>\n",
       "      <td>5740</td>\n",
       "    </tr>\n",
       "  </tbody>\n",
       "</table>\n",
       "<p>54000 rows × 8 columns</p>\n",
       "</div>"
      ],
      "text/plain": [
       "      Date_reported Country_code      Country WHO_region  New_cases  \\\n",
       "0        2020-01-05           AF  Afghanistan       EMRO        NaN   \n",
       "1        2020-01-12           AF  Afghanistan       EMRO        NaN   \n",
       "2        2020-01-19           AF  Afghanistan       EMRO        NaN   \n",
       "3        2020-01-26           AF  Afghanistan       EMRO        NaN   \n",
       "4        2020-02-02           AF  Afghanistan       EMRO        NaN   \n",
       "...             ...          ...          ...        ...        ...   \n",
       "53995    2024-03-24           ZW     Zimbabwe       AFRO        NaN   \n",
       "53996    2024-03-31           ZW     Zimbabwe       AFRO        NaN   \n",
       "53997    2024-04-07           ZW     Zimbabwe       AFRO        NaN   \n",
       "53998    2024-04-14           ZW     Zimbabwe       AFRO        NaN   \n",
       "53999    2024-04-21           ZW     Zimbabwe       AFRO        NaN   \n",
       "\n",
       "       Cumulative_cases  New_deaths  Cumulative_deaths  \n",
       "0                     0         NaN                  0  \n",
       "1                     0         NaN                  0  \n",
       "2                     0         NaN                  0  \n",
       "3                     0         NaN                  0  \n",
       "4                     0         NaN                  0  \n",
       "...                 ...         ...                ...  \n",
       "53995            266359         NaN               5740  \n",
       "53996            266359         NaN               5740  \n",
       "53997            266359         NaN               5740  \n",
       "53998            266359         NaN               5740  \n",
       "53999            266359         NaN               5740  \n",
       "\n",
       "[54000 rows x 8 columns]"
      ]
     },
     "execution_count": 52,
     "metadata": {},
     "output_type": "execute_result"
    }
   ],
   "source": [
    "df "
   ]
  },
  {
   "cell_type": "code",
   "execution_count": 57,
   "id": "ae308f1b",
   "metadata": {},
   "outputs": [],
   "source": [
    "df= df.rename(columns={\"Date_reported\":\"Date\",\"Country_code\":\"country_code\",\"Country\":\"country\",\"WHO_region\":\"region\",\"New_cases\":\"new_cases\",\"New_deaths\":\"deaths\"})"
   ]
  },
  {
   "cell_type": "code",
   "execution_count": 58,
   "id": "fc86e92b",
   "metadata": {},
   "outputs": [
    {
     "data": {
      "text/html": [
       "<div>\n",
       "<style scoped>\n",
       "    .dataframe tbody tr th:only-of-type {\n",
       "        vertical-align: middle;\n",
       "    }\n",
       "\n",
       "    .dataframe tbody tr th {\n",
       "        vertical-align: top;\n",
       "    }\n",
       "\n",
       "    .dataframe thead th {\n",
       "        text-align: right;\n",
       "    }\n",
       "</style>\n",
       "<table border=\"1\" class=\"dataframe\">\n",
       "  <thead>\n",
       "    <tr style=\"text-align: right;\">\n",
       "      <th></th>\n",
       "      <th>Date</th>\n",
       "      <th>country_code</th>\n",
       "      <th>country</th>\n",
       "      <th>region</th>\n",
       "      <th>new_cases</th>\n",
       "      <th>Cumulative_cases</th>\n",
       "      <th>deaths</th>\n",
       "      <th>Cumulative_deaths</th>\n",
       "    </tr>\n",
       "  </thead>\n",
       "  <tbody>\n",
       "    <tr>\n",
       "      <th>0</th>\n",
       "      <td>2020-01-05</td>\n",
       "      <td>AF</td>\n",
       "      <td>Afghanistan</td>\n",
       "      <td>EMRO</td>\n",
       "      <td>NaN</td>\n",
       "      <td>0</td>\n",
       "      <td>NaN</td>\n",
       "      <td>0</td>\n",
       "    </tr>\n",
       "    <tr>\n",
       "      <th>1</th>\n",
       "      <td>2020-01-12</td>\n",
       "      <td>AF</td>\n",
       "      <td>Afghanistan</td>\n",
       "      <td>EMRO</td>\n",
       "      <td>NaN</td>\n",
       "      <td>0</td>\n",
       "      <td>NaN</td>\n",
       "      <td>0</td>\n",
       "    </tr>\n",
       "    <tr>\n",
       "      <th>2</th>\n",
       "      <td>2020-01-19</td>\n",
       "      <td>AF</td>\n",
       "      <td>Afghanistan</td>\n",
       "      <td>EMRO</td>\n",
       "      <td>NaN</td>\n",
       "      <td>0</td>\n",
       "      <td>NaN</td>\n",
       "      <td>0</td>\n",
       "    </tr>\n",
       "    <tr>\n",
       "      <th>3</th>\n",
       "      <td>2020-01-26</td>\n",
       "      <td>AF</td>\n",
       "      <td>Afghanistan</td>\n",
       "      <td>EMRO</td>\n",
       "      <td>NaN</td>\n",
       "      <td>0</td>\n",
       "      <td>NaN</td>\n",
       "      <td>0</td>\n",
       "    </tr>\n",
       "    <tr>\n",
       "      <th>4</th>\n",
       "      <td>2020-02-02</td>\n",
       "      <td>AF</td>\n",
       "      <td>Afghanistan</td>\n",
       "      <td>EMRO</td>\n",
       "      <td>NaN</td>\n",
       "      <td>0</td>\n",
       "      <td>NaN</td>\n",
       "      <td>0</td>\n",
       "    </tr>\n",
       "    <tr>\n",
       "      <th>...</th>\n",
       "      <td>...</td>\n",
       "      <td>...</td>\n",
       "      <td>...</td>\n",
       "      <td>...</td>\n",
       "      <td>...</td>\n",
       "      <td>...</td>\n",
       "      <td>...</td>\n",
       "      <td>...</td>\n",
       "    </tr>\n",
       "    <tr>\n",
       "      <th>53995</th>\n",
       "      <td>2024-03-24</td>\n",
       "      <td>ZW</td>\n",
       "      <td>Zimbabwe</td>\n",
       "      <td>AFRO</td>\n",
       "      <td>NaN</td>\n",
       "      <td>266359</td>\n",
       "      <td>NaN</td>\n",
       "      <td>5740</td>\n",
       "    </tr>\n",
       "    <tr>\n",
       "      <th>53996</th>\n",
       "      <td>2024-03-31</td>\n",
       "      <td>ZW</td>\n",
       "      <td>Zimbabwe</td>\n",
       "      <td>AFRO</td>\n",
       "      <td>NaN</td>\n",
       "      <td>266359</td>\n",
       "      <td>NaN</td>\n",
       "      <td>5740</td>\n",
       "    </tr>\n",
       "    <tr>\n",
       "      <th>53997</th>\n",
       "      <td>2024-04-07</td>\n",
       "      <td>ZW</td>\n",
       "      <td>Zimbabwe</td>\n",
       "      <td>AFRO</td>\n",
       "      <td>NaN</td>\n",
       "      <td>266359</td>\n",
       "      <td>NaN</td>\n",
       "      <td>5740</td>\n",
       "    </tr>\n",
       "    <tr>\n",
       "      <th>53998</th>\n",
       "      <td>2024-04-14</td>\n",
       "      <td>ZW</td>\n",
       "      <td>Zimbabwe</td>\n",
       "      <td>AFRO</td>\n",
       "      <td>NaN</td>\n",
       "      <td>266359</td>\n",
       "      <td>NaN</td>\n",
       "      <td>5740</td>\n",
       "    </tr>\n",
       "    <tr>\n",
       "      <th>53999</th>\n",
       "      <td>2024-04-21</td>\n",
       "      <td>ZW</td>\n",
       "      <td>Zimbabwe</td>\n",
       "      <td>AFRO</td>\n",
       "      <td>NaN</td>\n",
       "      <td>266359</td>\n",
       "      <td>NaN</td>\n",
       "      <td>5740</td>\n",
       "    </tr>\n",
       "  </tbody>\n",
       "</table>\n",
       "<p>54000 rows × 8 columns</p>\n",
       "</div>"
      ],
      "text/plain": [
       "             Date country_code      country region  new_cases  \\\n",
       "0      2020-01-05           AF  Afghanistan   EMRO        NaN   \n",
       "1      2020-01-12           AF  Afghanistan   EMRO        NaN   \n",
       "2      2020-01-19           AF  Afghanistan   EMRO        NaN   \n",
       "3      2020-01-26           AF  Afghanistan   EMRO        NaN   \n",
       "4      2020-02-02           AF  Afghanistan   EMRO        NaN   \n",
       "...           ...          ...          ...    ...        ...   \n",
       "53995  2024-03-24           ZW     Zimbabwe   AFRO        NaN   \n",
       "53996  2024-03-31           ZW     Zimbabwe   AFRO        NaN   \n",
       "53997  2024-04-07           ZW     Zimbabwe   AFRO        NaN   \n",
       "53998  2024-04-14           ZW     Zimbabwe   AFRO        NaN   \n",
       "53999  2024-04-21           ZW     Zimbabwe   AFRO        NaN   \n",
       "\n",
       "       Cumulative_cases  deaths  Cumulative_deaths  \n",
       "0                     0     NaN                  0  \n",
       "1                     0     NaN                  0  \n",
       "2                     0     NaN                  0  \n",
       "3                     0     NaN                  0  \n",
       "4                     0     NaN                  0  \n",
       "...                 ...     ...                ...  \n",
       "53995            266359     NaN               5740  \n",
       "53996            266359     NaN               5740  \n",
       "53997            266359     NaN               5740  \n",
       "53998            266359     NaN               5740  \n",
       "53999            266359     NaN               5740  \n",
       "\n",
       "[54000 rows x 8 columns]"
      ]
     },
     "execution_count": 58,
     "metadata": {},
     "output_type": "execute_result"
    }
   ],
   "source": [
    "df"
   ]
  },
  {
   "cell_type": "code",
   "execution_count": 59,
   "id": "242d26d8",
   "metadata": {},
   "outputs": [
    {
     "data": {
      "text/plain": [
       "29380"
      ]
     },
     "execution_count": 59,
     "metadata": {},
     "output_type": "execute_result"
    }
   ],
   "source": [
    "df[\"deaths\"].isna().sum()"
   ]
  },
  {
   "cell_type": "code",
   "execution_count": 61,
   "id": "dbcc7a43",
   "metadata": {},
   "outputs": [
    {
     "data": {
      "text/plain": [
       "0"
      ]
     },
     "execution_count": 61,
     "metadata": {},
     "output_type": "execute_result"
    }
   ],
   "source": [
    "df[\"Cumulative_deaths\"].isnull().sum() "
   ]
  },
  {
   "cell_type": "code",
   "execution_count": 62,
   "id": "f3bf48f1",
   "metadata": {},
   "outputs": [
    {
     "data": {
      "text/plain": [
       "21.0"
      ]
     },
     "execution_count": 62,
     "metadata": {},
     "output_type": "execute_result"
    }
   ],
   "source": [
    "### Activity 4: Find the minimum and maximum values\n",
    "\n",
    "df[\"deaths\"].median() "
   ]
  },
  {
   "cell_type": "code",
   "execution_count": 63,
   "id": "bd68cc96",
   "metadata": {},
   "outputs": [
    {
     "data": {
      "text/plain": [
       "1186079"
      ]
     },
     "execution_count": 63,
     "metadata": {},
     "output_type": "execute_result"
    }
   ],
   "source": [
    "df[\"Cumulative_deaths\"].max()"
   ]
  },
  {
   "cell_type": "code",
   "execution_count": 64,
   "id": "d6962ce5",
   "metadata": {},
   "outputs": [
    {
     "data": {
      "text/plain": [
       "count    24620.000000\n",
       "mean       286.203087\n",
       "std       1223.265869\n",
       "min      -3432.000000\n",
       "25%          4.000000\n",
       "50%         21.000000\n",
       "75%        107.000000\n",
       "max      47687.000000\n",
       "Name: deaths, dtype: float64"
      ]
     },
     "execution_count": 64,
     "metadata": {},
     "output_type": "execute_result"
    }
   ],
   "source": [
    "df[\"deaths\"].describe().T  "
   ]
  },
  {
   "cell_type": "code",
   "execution_count": 65,
   "id": "0965cffa",
   "metadata": {},
   "outputs": [
    {
     "data": {
      "text/plain": [
       "7046320.0"
      ]
     },
     "execution_count": 65,
     "metadata": {},
     "output_type": "execute_result"
    }
   ],
   "source": [
    "### Activity 5: Total cases in the COVID-19 dataset\n",
    "\n",
    "df[\"deaths\"].sum()  "
   ]
  },
  {
   "cell_type": "code",
   "execution_count": 69,
   "id": "b0a17360",
   "metadata": {},
   "outputs": [
    {
     "data": {
      "text/plain": [
       "24620"
      ]
     },
     "execution_count": 69,
     "metadata": {},
     "output_type": "execute_result"
    }
   ],
   "source": [
    "df[\"deaths\"].count()"
   ]
  },
  {
   "cell_type": "code",
   "execution_count": 70,
   "id": "abd9cc4c",
   "metadata": {},
   "outputs": [
    {
     "data": {
      "text/plain": [
       "20596.74"
      ]
     },
     "execution_count": 70,
     "metadata": {},
     "output_type": "execute_result"
    }
   ],
   "source": [
    "### Activity 6: Find the mean cases per day\n",
    "\n",
    "round(df[\"new_cases\"].mean(),2)"
   ]
  },
  {
   "cell_type": "code",
   "execution_count": 72,
   "id": "c93a1fcf",
   "metadata": {},
   "outputs": [],
   "source": [
    "### Activity 7: Select values from a dataframe using indexing\n",
    "\n",
    "# Selecting values from a Dataframe using indexing.\n",
    "df1 = df.loc[:,[\"region\",\"country\"]]"
   ]
  },
  {
   "cell_type": "code",
   "execution_count": null,
   "id": "53bb4645",
   "metadata": {},
   "outputs": [],
   "source": [
    "### Activity 8: Drop columns from the dataframe\n",
    "# ['iso_code', 'new_cases_smoothed', 'new_deaths_smoothed', 'total_cases_per_million', 'new_cases_per_million', 'new_cases_smoothed_per_million', 'total_deaths_per_million', 'new_deaths_per_million', 'new_deaths_smoothed_per_million']\n",
    "\n",
    "df = df.drop(columns=['iso_code', 'new_cases_smoothed', 'new_deaths_smoothed', 'total_cases_per_million', 'new_cases_per_million', 'new_cases_smoothed_per_million', 'total_deaths_per_million', 'new_deaths_per_million', 'new_deaths_smoothed_per_million' ],axis=1)"
   ]
  },
  {
   "cell_type": "code",
   "execution_count": null,
   "id": "00670906",
   "metadata": {},
   "outputs": [],
   "source": [
    "### Activity 9: Add more rows to a dataframe\n",
    "\n",
    "new_data = {'continent': ['Africa'], 'location': ['Zimbabwe'], 'date': ['2022-12-07'], 'total_cases': [259356.0], 'new_cases': [192.0], 'total_deaths': [5622.0], 'new_deaths': [2.0], 'population_density': [42.729], 'median_age': [19.6], 'aged_65_older': [2.822], 'aged_70_older': [1.845], 'gdp_per_capita': [1899.767], 'cardiovasc_death_rate': [307.846], 'diabetes_prevalence': [1.85], 'life_expectancy': [61.55], 'population': [16320539.0]}\n",
    "new_df= pd.DataFrame(new_data)\n",
    "df= pd.concat([df,new_df],ignore_index= True)"
   ]
  },
  {
   "cell_type": "code",
   "execution_count": null,
   "id": "0933dc48",
   "metadata": {},
   "outputs": [],
   "source": [
    "### Activity 10: Update a specific cell value in the COVID-19 dataset\n",
    "\n",
    "# Update the value of the cell\n",
    "df.loc[166620, 'total_cases'] = 259357.0"
   ]
  },
  {
   "cell_type": "code",
   "execution_count": null,
   "id": "039e93b2",
   "metadata": {},
   "outputs": [],
   "source": [
    "### Activity 11: Update a multiple cell value in the COVID-19 dataset\n",
    "\n",
    "df.loc[166618,\"total_cases\"] = 259357.0\n",
    "df.loc[166619,\"total_cases\"]= 259358.0"
   ]
  },
  {
   "cell_type": "code",
   "execution_count": null,
   "id": "d9deb396",
   "metadata": {},
   "outputs": [],
   "source": [
    "### Activity 12: Remove rows from the dataframe\n",
    "\n",
    "df.drop([166619, 166620], inplace=True)"
   ]
  },
  {
   "cell_type": "code",
   "execution_count": null,
   "id": "4c52a3c0",
   "metadata": {},
   "outputs": [],
   "source": [
    "df=df.drop ([166619,166620],axis=0)"
   ]
  },
  {
   "cell_type": "code",
   "execution_count": null,
   "id": "59d638df",
   "metadata": {},
   "outputs": [],
   "source": [
    "### Activity 13: Use `.loc` to select rows based on a condition\n",
    "\n",
    "df_1m = df.loc[df[\"total_cases\"] >= 1000000.0]"
   ]
  },
  {
   "cell_type": "code",
   "execution_count": null,
   "id": "12e74e7d",
   "metadata": {},
   "outputs": [],
   "source": [
    "### Activity 14: Select specific columns and rows\n",
    "\n",
    "# Using .iloc to select specific columns and rows.\n",
    "df_cases_death = df.iloc[[5168,5172,163703],[3,5]]"
   ]
  },
  {
   "cell_type": "code",
   "execution_count": null,
   "id": "8ee32bf0",
   "metadata": {},
   "outputs": [],
   "source": [
    "### Activity 15: Sort COVID-19 data in ascending order\n",
    "\n",
    "# Sorting COVID-19 data in ascending order.\n",
    "df_sorted = df.sort_values(by=\"total_cases\",ascending=True)"
   ]
  },
  {
   "cell_type": "code",
   "execution_count": null,
   "id": "33f40a9d",
   "metadata": {},
   "outputs": [],
   "source": [
    "### Activity 16: Sort COVID-19 data in descending order\n",
    "\n",
    "df_sorted_desc = df.sort_values(by=\"total_cases\",ascending=False)"
   ]
  },
  {
   "cell_type": "code",
   "execution_count": null,
   "id": "dad0ae9f",
   "metadata": {},
   "outputs": [],
   "source": [
    "### Activity 17: Sort the COVID-19 data by multiple columns\n",
    "\n",
    "# Sorting COVID-19 data by multiple columns.\n",
    "df_sorted_multi = df.sort_values(by= [\"total_cases\",\"total_deaths\"],ascending=[False,True])"
   ]
  },
  {
   "cell_type": "code",
   "execution_count": null,
   "id": "cfb4aeef",
   "metadata": {},
   "outputs": [],
   "source": [
    "### Activity 18: Add new columns using arithmetic operations\n",
    "\n",
    "#Create a new column named total_cases_population_density in the dataframe df by dividing the total_cases column by the population column.\n",
    "\n",
    "df[\"total_cases_population_density\"]= df[\"total_cases\"] / df[\"population\"]"
   ]
  },
  {
   "cell_type": "code",
   "execution_count": null,
   "id": "5cc7eefd",
   "metadata": {},
   "outputs": [],
   "source": [
    "### Activity 19: Using vectorized operations to update a column\n",
    "\n",
    "#multiplying each value in the column by 1000. This update should be made to the column that we created in the previous activity.\n",
    "\n",
    "df[\"total_cases_population_density\"] = df[\"total_cases\"] / df[\"population\"]*1000"
   ]
  },
  {
   "cell_type": "code",
   "execution_count": null,
   "id": "d7931fe8",
   "metadata": {},
   "outputs": [],
   "source": [
    "### Activity 20: Remove columns using `del` statement\n",
    "#Remove the total_cases_population_density column from the df dataframe.\n",
    "\n",
    "del df[\"total_cases_population_density\"]"
   ]
  },
  {
   "cell_type": "code",
   "execution_count": null,
   "id": "e72731db",
   "metadata": {},
   "outputs": [],
   "source": [
    "### Activity 21: Rename columns\n",
    "\n",
    "#Rename the total_cases column to Total Cases and the total_deaths column to Total Deaths.\n",
    "df = df.rename(columns={'total_cases': 'Total Cases', 'total_deaths': 'Total Deaths'})"
   ]
  },
  {
   "cell_type": "code",
   "execution_count": null,
   "id": "88baa13d",
   "metadata": {},
   "outputs": [],
   "source": [
    "### Activity 22: Filter COVID-19 data using boolean indexing\n",
    "#Create three dataframe objects named df_india_china, df_range, and df_greater_new_cases by filtering the df dataframe object using boolean indexing as follows:For df_india_china, select all rows from the COVID-19 DataFrame where the location is either \"India\" or \"China\".For df_range, select all rows from the COVID-19 DataFrame where the number of new_cases is between 100000 and 200000.For df_greater_new_cases, select all rows from the COVID-19 DataFrame where the number of new_cases per day is greater than or equal to 10000.\n",
    "\n",
    "df_india_china = df[(df[\"location\"]==\"India\") | (df[\"location\"]==\"China\")]\n",
    "df_range = df[(df[\"new_cases\"]>= 100000) & (df[\"new_cases\"]<= 200000)]\n",
    "df_greater_new_cases = df[df[\"new_cases\"] >= 10000]"
   ]
  },
  {
   "cell_type": "code",
   "execution_count": null,
   "id": "fd041dc6",
   "metadata": {},
   "outputs": [],
   "source": [
    "#THE END!"
   ]
  }
 ],
 "metadata": {
  "kernelspec": {
   "display_name": "Python 3 (ipykernel)",
   "language": "python",
   "name": "python3"
  },
  "language_info": {
   "codemirror_mode": {
    "name": "ipython",
    "version": 3
   },
   "file_extension": ".py",
   "mimetype": "text/x-python",
   "name": "python",
   "nbconvert_exporter": "python",
   "pygments_lexer": "ipython3",
   "version": "3.11.7"
  }
 },
 "nbformat": 4,
 "nbformat_minor": 5
}
