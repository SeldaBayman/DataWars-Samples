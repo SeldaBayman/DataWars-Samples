{
 "cells": [
  {
   "cell_type": "raw",
   "id": "ea52037e",
   "metadata": {},
   "source": [
    "###Data Cleaning with Pandas\n",
    "\n",
    "###Cleaning duplicate data from an Online Retail store"
   ]
  },
  {
   "cell_type": "raw",
   "id": "b39dc345",
   "metadata": {},
   "source": [
    "###DATA.DROP_DUBLİCATES (SUBSET=[........],KEEP='RİGHT-LEFT-ALL',İNPLACE=FALSE)"
   ]
  },
  {
   "cell_type": "code",
   "execution_count": null,
   "id": "ada9ea85",
   "metadata": {},
   "outputs": [],
   "source": [
    "## Importing the libraries\n",
    "\n",
    "#to read the dataframe\n",
    "import pandas as pd"
   ]
  },
  {
   "cell_type": "code",
   "execution_count": null,
   "id": "ef9f8123",
   "metadata": {},
   "outputs": [],
   "source": [
    "## Reading the dataset as a dataframe\n",
    "\n",
    "# Reading dataframe\n",
    "df = pd.read_csv('OnlineRetail.csv')"
   ]
  },
  {
   "cell_type": "code",
   "execution_count": null,
   "id": "8850c2df",
   "metadata": {},
   "outputs": [],
   "source": [
    "df.head()"
   ]
  },
  {
   "cell_type": "code",
   "execution_count": null,
   "id": "56d2e48b",
   "metadata": {},
   "outputs": [],
   "source": [
    "## Discovering the dataset *****\n",
    "\n",
    "#show the number of cells in the dataframe\n",
    "print(\"dataset size: \", df.size)\n",
    "\n",
    "#show the number of records (rows) in the dataframe\n",
    "print(\"number of talks: \", len(df))\n",
    "\n",
    "#show the number of features (coulmns) in the dataframe\n",
    "print(\"number of features: \", len(df.columns)) \n"
   ]
  },
  {
   "cell_type": "code",
   "execution_count": null,
   "id": "613e2c27",
   "metadata": {},
   "outputs": [],
   "source": [
    "df.dtypes\n",
    "\n",
    "df.columns\n",
    "\n",
    "df.shape\n",
    "\n",
    "df.info()\n",
    "\n",
    "df.describe().T\n",
    "\n",
    "df.isnull().sum()\n",
    "\n",
    "df.nunique()\n",
    "\n",
    "df.tail()"
   ]
  },
  {
   "cell_type": "code",
   "execution_count": null,
   "id": "998e49cf",
   "metadata": {},
   "outputs": [],
   "source": [
    "## Basic Activities\n",
    "##Let's start with a few simple activities regarding discovering duplicates and dropping them."
   ]
  },
  {
   "cell_type": "code",
   "execution_count": null,
   "id": "bc09d1e4",
   "metadata": {},
   "outputs": [],
   "source": [
    "#### 4- Select duplicate rows in a dataframe from the dataset\n",
    "\n",
    "# Create a new DataFrame with only the duplicate rows\n",
    "duplicate_rows = df[df.duplicated(keep='first')]"
   ]
  },
  {
   "cell_type": "code",
   "execution_count": null,
   "id": "3831c335",
   "metadata": {},
   "outputs": [],
   "source": [
    "#### 4- Select duplicate rows in a dataframe from the dataset\n",
    "\n",
    "duplicate_rows = df[df.duplicated()]"
   ]
  },
  {
   "cell_type": "code",
   "execution_count": null,
   "id": "395eb2ab",
   "metadata": {},
   "outputs": [],
   "source": [
    "#### 5- How many duplicate rows in the dataset?\n",
    "\n",
    "duplicate_rows.shape[0]"
   ]
  },
  {
   "cell_type": "code",
   "execution_count": null,
   "id": "9df8e894",
   "metadata": {},
   "outputs": [],
   "source": []
  },
  {
   "cell_type": "code",
   "execution_count": null,
   "id": "ef658b04",
   "metadata": {},
   "outputs": [],
   "source": []
  },
  {
   "cell_type": "code",
   "execution_count": null,
   "id": "8cdf7be3",
   "metadata": {},
   "outputs": [],
   "source": []
  },
  {
   "cell_type": "code",
   "execution_count": null,
   "id": "f4f6a8d3",
   "metadata": {},
   "outputs": [],
   "source": [
    "\n",
    "#### 6- Find and drop duplicate rows based on InvoiceNo, StockCode, Quantity, and UnitPrice columns\n",
    "\n",
    "df_without_duplicate_orders = df.drop_duplicates(subset=['InvoiceNo', 'StockCode', 'Quantity', 'UnitPrice'], inplace=False)\n",
    "\n",
    "\n",
    "#### 7- Drop duplicates while keeping the first non-NaN value based on InvoiceNo, StockCode, and CustomerID columns\n",
    "\n",
    "df_keep_first = df.drop_duplicates(\n",
    "                                  subset=['InvoiceNo', 'StockCode', 'CustomerID'], \n",
    "                                  keep='first', inplace=False)\n",
    "\n",
    "#### 8- Drop duplicates while keeping the last order based on StockCode and InvoiceWeekday columns\n",
    "\n",
    "# Convert InvoiceDate column to datetime\n",
    "df_weekday = df\n",
    "\n",
    "df_weekday['InvoiceDate'] = pd.to_datetime(df['InvoiceDate'])\n",
    "\n",
    "# Create a new column for weekday\n",
    "df_weekday['InvoiceWeekday'] = df['InvoiceDate'].dt.weekday\n",
    "\n",
    "\n",
    "# Drop duplicates based on StockCode and InvoiceWeekday\n",
    "df_unique_stock_day = df_weekday.drop_duplicates(subset=['StockCode', 'InvoiceWeekday'], \n",
    "                                                 keep='last', \n",
    "                                                 inplace=False)\n",
    "\n",
    "## Continue Activities\n",
    "\n",
    "#### 9- Drop all duplicate invoices\n",
    "\n",
    "#Imagine it is black friday and each customer is allowed to buy only at one invoice. So, we need to drop all the duplicate invoices.Perform the dropping and store the results in the variable df_black_friday.\n",
    "\n",
    "df_black_friday = df.drop_duplicates(subset=['InvoiceNo'], keep=False, inplace=False)\n",
    "\n",
    "\n",
    "#### 10- Drop duplicate countries while keeping the first row\n",
    "\n",
    "df_unique_countries = df.drop_duplicates(subset=['Country'], keep='first', inplace=False)\n",
    "\n",
    "\n",
    "#### 11- Drop duplicate products while keeping last based on StockCode, Description, and UnitPrice\n",
    "\n",
    "df_unique_products = df.drop_dublicates(subset=['StockCode','Description','UnitPrice'],keep='last',inplace=False)\n",
    "\n",
    "df_unique_products = df.drop_duplicates(subset=['StockCode', 'Description', 'UnitPrice'], keep='last', inplace=False)\n",
    "\n",
    "\n",
    "#### 12- Drop all duplicate rows based on TotalCost and CustomerID while keeping first\n",
    "\n",
    "df_cost = df\n",
    "\n",
    "# Create a new column for TotalCost\n",
    "df_cost['TotalCost'] = df_cost['Quantity']*df_cost['UnitPrice']\n",
    "\n",
    "df_customer_unique_payments = df_cost.drop_dublicates(subset=['TotalCost','CustomerID'],\n",
    "                                                     keep='first',\n",
    "                                                     inplace=True)\n",
    "\n",
    "df_customer_unique_payments = df_cost.drop_duplicates(subset=['TotalCost', 'CustomerID'], keep='first', inplace=False)\n",
    "\n",
    "\n",
    "#### 13- Drop all duplicate rows while keeping first\n",
    "\n",
    "df_unique = df.drop_dublicates(keep='first', inplace=False)\n",
    "\n",
    "df_unique = df.drop_duplicates(inplace=False)\n"
   ]
  },
  {
   "cell_type": "code",
   "execution_count": null,
   "id": "809573f8",
   "metadata": {},
   "outputs": [],
   "source": []
  }
 ],
 "metadata": {
  "kernelspec": {
   "display_name": "Python 3 (ipykernel)",
   "language": "python",
   "name": "python3"
  },
  "language_info": {
   "codemirror_mode": {
    "name": "ipython",
    "version": 3
   },
   "file_extension": ".py",
   "mimetype": "text/x-python",
   "name": "python",
   "nbconvert_exporter": "python",
   "pygments_lexer": "ipython3",
   "version": "3.11.7"
  }
 },
 "nbformat": 4,
 "nbformat_minor": 5
}
